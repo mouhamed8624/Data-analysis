{
 "cells": [
  {
   "cell_type": "code",
   "execution_count": 7,
   "metadata": {},
   "outputs": [],
   "source": [
    "import pandas as pd\n",
    "import numpy as np\n",
    "from sklearn.model_selection import train_test_split\n",
    "from sklearn.pipeline import Pipeline\n",
    "from sklearn.compose import ColumnTransformer\n",
    "from sklearn.impute import SimpleImputer\n",
    "from sklearn.preprocessing import OneHotEncoder, StandardScaler, FunctionTransformer\n",
    "from sklearn.ensemble import RandomForestClassifier\n",
    "from sklearn.metrics import accuracy_score"
   ]
  },
  {
   "cell_type": "code",
   "execution_count": 8,
   "metadata": {},
   "outputs": [
    {
     "name": "stdout",
     "output_type": "stream",
     "text": [
      "<class 'pandas.core.frame.DataFrame'>\n",
      "RangeIndex: 768 entries, 0 to 767\n",
      "Data columns (total 8 columns):\n",
      " #   Column  Non-Null Count  Dtype  \n",
      "---  ------  --------------  -----  \n",
      " 0   0       768 non-null    int64  \n",
      " 1   1       768 non-null    int64  \n",
      " 2   2       768 non-null    int64  \n",
      " 3   3       768 non-null    int64  \n",
      " 4   4       768 non-null    int64  \n",
      " 5   5       768 non-null    float64\n",
      " 6   6       768 non-null    float64\n",
      " 7   7       768 non-null    int64  \n",
      "dtypes: float64(2), int64(6)\n",
      "memory usage: 48.1 KB\n"
     ]
    }
   ],
   "source": [
    "import pandas as pd\n",
    "url = \"https://raw.githubusercontent.com/jbrownlee/Datasets/master/pima-indians-diabetes.csv\"\n",
    "df = pd.read_csv(url, header=None)\n",
    "X = df.drop(columns=8)\n",
    "y = df[8]\n",
    "X.info()"
   ]
  },
  {
   "cell_type": "code",
   "execution_count": 9,
   "metadata": {},
   "outputs": [],
   "source": [
    "X_train, X_test, y_train, y_test = train_test_split(X, y, test_size=0.2, random_state=42)\n",
    "X_train.shape, X_test.shape\n",
    "pipeline  = Pipeline([\n",
    "    ('preprocess', ColumnTransformer([\n",
    "        ('imputer', SimpleImputer(strategy='median'), [0, 1, 2, 3, 4, 5, 6, 7]),\n",
    "        ('scaler', StandardScaler(), [0, 1, 2, 3, 4, 5, 6, 7])\n",
    "    ])),\n",
    "    ('classifier', RandomForestClassifier(n_estimators=100, random_state=42))\n",
    "\n",
    "\n",
    "])\n",
    "    "
   ]
  },
  {
   "cell_type": "code",
   "execution_count": 10,
   "metadata": {},
   "outputs": [
    {
     "name": "stdout",
     "output_type": "stream",
     "text": [
      "Train Accuracy: 1.00\n",
      "Test Accuracy: 0.74\n"
     ]
    }
   ],
   "source": [
    "pipeline.fit(X_train, y_train)\n",
    "y_pred = pipeline.predict(X_test)\n",
    "print(f\"Train Accuracy: {pipeline.score(X_train, y_train):.2f}\")\n",
    "print(f\"Test Accuracy: {pipeline.score(X_test, y_test):.2f}\")"
   ]
  },
  {
   "cell_type": "code",
   "execution_count": 11,
   "metadata": {},
   "outputs": [
    {
     "name": "stdout",
     "output_type": "stream",
     "text": [
      "Patient 1:\n",
      "- Prediction: No Diabetes\n",
      "- Probability of Diabetes: 24.00%\n",
      "\n",
      "\n",
      "Patient 2:\n",
      "- Prediction: Diabetes\n",
      "- Probability of Diabetes: 94.00%\n",
      "\n",
      "\n"
     ]
    },
    {
     "name": "stderr",
     "output_type": "stream",
     "text": [
      "/opt/anaconda3/lib/python3.12/site-packages/sklearn/base.py:486: UserWarning: X has feature names, but SimpleImputer was fitted without feature names\n",
      "  warnings.warn(\n",
      "/opt/anaconda3/lib/python3.12/site-packages/sklearn/base.py:486: UserWarning: X has feature names, but StandardScaler was fitted without feature names\n",
      "  warnings.warn(\n",
      "/opt/anaconda3/lib/python3.12/site-packages/sklearn/base.py:486: UserWarning: X has feature names, but SimpleImputer was fitted without feature names\n",
      "  warnings.warn(\n",
      "/opt/anaconda3/lib/python3.12/site-packages/sklearn/base.py:486: UserWarning: X has feature names, but StandardScaler was fitted without feature names\n",
      "  warnings.warn(\n"
     ]
    }
   ],
   "source": [
    "# Sample test data (custom cases)\n",
    "sample_data = pd.DataFrame({\n",
    "    'Pregnancies': [2, 8],           # Number of pregnancies\n",
    "    'Glucose': [120, 180],           # Plasma glucose concentration (mg/dL)\n",
    "    'BloodPressure': [70, 92],       # Diastolic blood pressure (mm Hg)\n",
    "    'SkinThickness': [25, 35],       # Triceps skinfold thickness (mm)\n",
    "    'Insulin': [80, 0],              # 2-Hour serum insulin (mu U/ml)\n",
    "    'BMI': [28.5, 38.1],             # Body mass index (kg/m²)\n",
    "    'DiabetesPedigree': [0.3, 0.7],  # Diabetes pedigree function\n",
    "    'Age': [30, 50]                  # Age (years)\n",
    "})\n",
    "\n",
    "# Get predictions\n",
    "predictions = pipeline.predict(sample_data)\n",
    "probabilities = pipeline.predict_proba(sample_data)[:, 1]  # Probability of class 1 (Diabetes)\n",
    "\n",
    "# Display results\n",
    "for i, (pred, prob) in enumerate(zip(predictions, probabilities)):\n",
    "    print(f\"Patient {i+1}:\")\n",
    "    print(f\"- Prediction: {'Diabetes' if pred == 1 else 'No Diabetes'}\")\n",
    "    print(f\"- Probability of Diabetes: {prob:.2%}\")\n",
    "    print(\"\\n\")\n"
   ]
  }
 ],
 "metadata": {
  "kernelspec": {
   "display_name": "base",
   "language": "python",
   "name": "python3"
  },
  "language_info": {
   "codemirror_mode": {
    "name": "ipython",
    "version": 3
   },
   "file_extension": ".py",
   "mimetype": "text/x-python",
   "name": "python",
   "nbconvert_exporter": "python",
   "pygments_lexer": "ipython3",
   "version": "3.12.4"
  }
 },
 "nbformat": 4,
 "nbformat_minor": 2
}
